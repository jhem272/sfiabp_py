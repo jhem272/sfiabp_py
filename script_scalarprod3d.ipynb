{
 "cells": [
  {
   "cell_type": "code",
   "execution_count": null,
   "id": "7ca1096a",
   "metadata": {},
   "outputs": [],
   "source": [
    "import matplotlib.pyplot as plt\n",
    "import numpy as np\n",
    "\n",
    "import sfiabp.vectorial.analytics as analytics\n",
    "import sfiabp.base.base2ptrigo as base2ptrigo "
   ]
  },
  {
   "cell_type": "code",
   "execution_count": null,
   "id": "2b6fc379",
   "metadata": {},
   "outputs": [],
   "source": [
    "#### General parameters ####\n",
    "\n",
    "## vectorial function to fit in polar coordinates (r,theta1,theta2) \n",
    "# lfun = analyze.minimalmodel3()\n",
    "lfun = analytics.function1rN(2000,4)\n",
    "# lfun = analyze.functionNull()\n",
    "\n",
    "## grid\n",
    "# vecr = np.linspace(3,18,15,endpoint=False) # um\n",
    "# vecai = (np.pi/180)*np.linspace(0,360,36,endpoint=False) # rad\n",
    "# vecaj = (np.pi/180)*np.linspace(0,360,36,endpoint=False) # rad\n",
    "vecr = np.linspace(3,16,26,endpoint=False) # um\n",
    "vecai = (np.pi/180)*np.linspace(0,360,36,endpoint=False) # rad\n",
    "vecaj = (np.pi/180)*np.linspace(0,360,36,endpoint=False) # rad\n",
    "# vecr = np.linspace(0,16,1,endpoint=False) # um\n",
    "# vecai = (np.pi/180)*np.linspace(0,360,10,endpoint=False) # rad\n",
    "# vecaj = (np.pi/180)*np.linspace(0,360,10,endpoint=False) # rad\n",
    "\n",
    "#### Base functions ####\n",
    "\n",
    "basis_name = 'Trigo' \n",
    "## 2 particles force\n",
    "# Order, FuncRad, VectorRad\n",
    "Order = 1\n",
    "FuncRad = 'PolyExp'\n",
    "VectorRad = np.arange(0,16,2)\n",
    "list_base = base2ptrigo.polartrigo( Order, FuncRad, VectorRad )[0] # list_base\n"
   ]
  },
  {
   "cell_type": "code",
   "execution_count": 3,
   "id": "57de7d81",
   "metadata": {},
   "outputs": [
    {
     "name": "stdout",
     "output_type": "stream",
     "text": [
      "Preprocess function\n",
      "Preprocess base function\n",
      "memory = 2426112\n",
      "Component : 0, done\n",
      "Component : 1, done\n",
      "Component : 2, done\n"
     ]
    }
   ],
   "source": [
    "#### SFI Algo ####\n",
    "cof2p = analytics.sfiprod3d(lfun,list_base,vecr,vecai,vecaj,Mode_ACCL=True)"
   ]
  },
  {
   "cell_type": "code",
   "execution_count": 8,
   "id": "4e0fea2e",
   "metadata": {},
   "outputs": [
    {
     "data": {
      "text/plain": [
       "<matplotlib.legend.Legend at 0x796a4a5d9e80>"
      ]
     },
     "execution_count": 8,
     "metadata": {},
     "output_type": "execute_result"
    },
    {
     "data": {
      "image/png": "[encoded data removed]",
      "text/plain": [
       "<Figure size 400x300 with 1 Axes>"
      ]
     },
     "metadata": {},
     "output_type": "display_data"
    }
   ],
   "source": [
    "## signle plot \n",
    "# function1rN, 2000/r^4\n",
    "phicof = np.reshape( cof2p,np.prod(np.shape(cof2p)) )\n",
    "lffrad = base2ptrigo.InitListFunc( Order, FuncRad, VectorRad, phicof )[1]\n",
    "fig, axs = plt.subplots( 1, 1, figsize=(4,3))\n",
    "ftz_label = 10\n",
    "ftz_legend = 10\n",
    "r = np.linspace(vecr[0],vecr[-1],400)\n",
    "## inferred terms\n",
    "axs.plot(r,lffrad[0][0](r),label=\"$a^r_{0,0}$\")\n",
    "axs.plot(r, 2000/r**4,'--',label='exact') \n",
    "axs.set_ylabel('$v_r\\\\ (\\\\mu m/s)$',fontsize=ftz_label)\n",
    "axs.set_xlabel('$r\\\\ (\\\\mu m)$',fontsize=ftz_label)\n",
    "axs.legend(loc='best',frameon=False, fontsize=ftz_legend)"
   ]
  },
  {
   "cell_type": "code",
   "execution_count": null,
   "id": "260401b4",
   "metadata": {},
   "outputs": [],
   "source": []
  }
 ],
 "metadata": {
  "kernelspec": {
   "display_name": "base",
   "language": "python",
   "name": "python3"
  },
  "language_info": {
   "codemirror_mode": {
    "name": "ipython",
    "version": 3
   },
   "file_extension": ".py",
   "mimetype": "text/x-python",
   "name": "python",
   "nbconvert_exporter": "python",
   "pygments_lexer": "ipython3",
   "version": "3.12.2"
  }
 },
 "nbformat": 4,
 "nbformat_minor": 5
}
